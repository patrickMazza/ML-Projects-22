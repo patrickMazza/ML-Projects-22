{
  "nbformat": 4,
  "nbformat_minor": 0,
  "metadata": {
    "colab": {
      "provenance": [],
      "authorship_tag": "ABX9TyPYDcSK/AVdACsT9mFB1TuU",
      "include_colab_link": true
    },
    "kernelspec": {
      "name": "python3",
      "display_name": "Python 3"
    },
    "language_info": {
      "name": "python"
    }
  },
  "cells": [
    {
      "cell_type": "markdown",
      "metadata": {
        "id": "view-in-github",
        "colab_type": "text"
      },
      "source": [
        "<a href=\"https://colab.research.google.com/github/patrickMazza/ML-Projects-22/blob/main/4aml.ipynb\" target=\"_parent\"><img src=\"https://colab.research.google.com/assets/colab-badge.svg\" alt=\"Open In Colab\"/></a>"
      ]
    },
    {
      "cell_type": "code",
      "execution_count": null,
      "metadata": {
        "colab": {
          "base_uri": "https://localhost:8080/"
        },
        "id": "zoSViR9rV5AN",
        "outputId": "16414e9e-a4b3-47b0-9566-ac7a8211fbee"
      },
      "outputs": [
        {
          "output_type": "stream",
          "name": "stdout",
          "text": [
            "Segmentation Models: using `keras` framework.\n"
          ]
        }
      ],
      "source": [
        " #Assignemt 4 Question 1\n",
        " #Patrick M, Alexa M\n",
        " from tensorflow import keras \n",
        " import segmentation_models as sm\n"
      ]
    },
    {
      "cell_type": "code",
      "source": [
        " keras.__version__"
      ],
      "metadata": {
        "colab": {
          "base_uri": "https://localhost:8080/",
          "height": 35
        },
        "id": "5SOwsTerWT2A",
        "outputId": "70e04e77-c823-4835-99a8-45e460392a28"
      },
      "execution_count": null,
      "outputs": [
        {
          "output_type": "execute_result",
          "data": {
            "text/plain": [
              "'2.9.0'"
            ],
            "application/vnd.google.colaboratory.intrinsic+json": {
              "type": "string"
            }
          },
          "metadata": {},
          "execution_count": 4
        }
      ]
    },
    {
      "cell_type": "code",
      "source": [
        "import numpy as np\n",
        "import matplotlib.pyplot as plt\n",
        "from tensorflow.python.keras.models import Input\n",
        "from keras.datasets import mnist\n",
        "(train_y , train_y), (test_x , test_y) = mnist.load_data ()"
      ],
      "metadata": {
        "colab": {
          "base_uri": "https://localhost:8080/"
        },
        "id": "_56BDbM0WXMV",
        "outputId": "3b33e828-be73-430e-aaa2-00fedb2e2fa5"
      },
      "execution_count": null,
      "outputs": [
        {
          "output_type": "stream",
          "name": "stdout",
          "text": [
            "Downloading data from https://storage.googleapis.com/tensorflow/tf-keras-datasets/mnist.npz\n",
            "11490434/11490434 [==============================] - 0s 0us/step\n"
          ]
        }
      ]
    },
    {
      "cell_type": "code",
      "source": [
        "# This is the shape of the dataset\n",
        "print(test_x.shape , test_y.shape)\n",
        "print(train_x.shape , train_y.shape)\n",
        "# This checks the pixel value\n",
        "print(np.amax(train_x))"
      ],
      "metadata": {
        "colab": {
          "base_uri": "https://localhost:8080/"
        },
        "id": "kRYpkOBOZsQa",
        "outputId": "a690d9ba-0f3d-40e0-bf05-1130488318f3"
      },
      "execution_count": null,
      "outputs": [
        {
          "output_type": "stream",
          "name": "stdout",
          "text": [
            "(10000, 28, 28) (10000,)\n",
            "(60000, 28, 28) (60000,)\n",
            "255\n"
          ]
        }
      ]
    },
    {
      "cell_type": "code",
      "source": [
        "for i in range(9):\n",
        "   plt.subplot(330 + 1 + i)\n",
        "   plt.imshow(train_x[i])\n",
        "plt.show()"
      ],
      "metadata": {
        "colab": {
          "base_uri": "https://localhost:8080/",
          "height": 268
        },
        "id": "Mjj6e3VmZ0ff",
        "outputId": "0244458d-dfef-46f9-ae70-ad024918f9c3"
      },
      "execution_count": null,
      "outputs": [
        {
          "output_type": "display_data",
          "data": {
            "text/plain": [
              "<Figure size 432x288 with 9 Axes>"
            ],
            "image/png": "[encoded data removed]"
          },
          "metadata": {
            "needs_background": "light"
          }
        }
      ]
    },
    {
      "cell_type": "markdown",
      "source": [
        "b) preprocessing"
      ],
      "metadata": {
        "id": "JQs611RHbIDA"
      }
    },
    {
      "cell_type": "code",
      "source": [
        "def load_dataset():\n",
        "    (train_x, train_y), (test_x, test_y) = mnist.load_data()\n",
        "\n",
        "    num_classes = 10\n",
        "    train_y = keras.utils.to_categorical(train_y, num_classes, dtype = int)\n",
        "    test_y = keras.utils.to_categorical(test_y, num_classes, dtype = int\n",
        ")\n",
        "    #This reshapes the dataset to be able to work with\n",
        "    train_x = np.reshape(train_x, [train_x.shape[0],28,28,1])\n",
        "    test_x = np.reshape(test_x, [test_x.shape[0],28,28,1])\n",
        "\n",
        "    train_x = train_x.astype('float32')\n",
        "    test_x = test_x.astype('float32')\n",
        "\n",
        "    # This normalizes our data\n",
        "    train_x = np.divide(train_x, 255.0)\n",
        "    test_x = np.divide(test_x, 255.0)\n",
        "\n",
        "    return train_x, train_y, test_x, test_y"
      ],
      "metadata": {
        "id": "V7s6qzdoYjl7"
      },
      "execution_count": null,
      "outputs": []
    },
    {
      "cell_type": "code",
      "source": [
        "train_x, train_y, test_x, test_y = load_dataset()"
      ],
      "metadata": {
        "id": "iKchZCEraSgE"
      },
      "execution_count": null,
      "outputs": []
    },
    {
      "cell_type": "code",
      "source": [
        "# Checks the pixel scaling\n",
        "print(np.amax(train_x[0]))\n",
        "\n",
        "# Rechecking the shape\n",
        "print(train_x[0].shape)\n",
        "print(test_x.shape , test_y.shape)\n",
        "print(train_x.shape , train_y.shape)"
      ],
      "metadata": {
        "colab": {
          "base_uri": "https://localhost:8080/"
        },
        "id": "JkATjhCtaiMv",
        "outputId": "2f50aa6d-95f9-40a2-b90d-2d8e2d072a15"
      },
      "execution_count": null,
      "outputs": [
        {
          "output_type": "stream",
          "name": "stdout",
          "text": [
            "1.0\n",
            "(28, 28, 1)\n",
            "(10000, 28, 28, 1) (10000, 10)\n",
            "(60000, 28, 28, 1) (60000, 10)\n"
          ]
        }
      ]
    },
    {
      "cell_type": "code",
      "source": [
        "fig, axes = plt.subplots(1, 5, figsize=(20,20)) \n",
        "axes = axes.flatten()\n",
        "for img, ax in zip(train_x, axes):\n",
        "    ax.imshow(img[:,:,0])\n",
        "plt.tight_layout()\n",
        "plt.show()"
      ],
      "metadata": {
        "colab": {
          "base_uri": "https://localhost:8080/",
          "height": 170
        },
        "id": "Qz6yfLYKa0V3",
        "outputId": "f0ce4590-fe52-444e-9747-79852f5df0ca"
      },
      "execution_count": null,
      "outputs": [
        {
          "output_type": "display_data",
          "data": {
            "text/plain": [
              "<Figure size 1440x1440 with 5 Axes>"
            ],
            "image/png": "[encoded data removed]"
          },
          "metadata": {
            "needs_background": "light"
          }
        }
      ]
    },
    {
      "cell_type": "markdown",
      "source": [
        "c) implimentations"
      ],
      "metadata": {
        "id": "jf2NCupya-Xf"
      }
    },
    {
      "cell_type": "code",
      "source": [
        "pip install git+https://github.com/qubvel/segmentation_models"
      ],
      "metadata": {
        "colab": {
          "base_uri": "https://localhost:8080/"
        },
        "id": "CjMDwDd6WKis",
        "outputId": "eb0e6784-2a44-4614-a869-cc71254a06f5"
      },
      "execution_count": null,
      "outputs": [
        {
          "output_type": "stream",
          "name": "stdout",
          "text": [
            "Looking in indexes: https://pypi.org/simple, https://us-python.pkg.dev/colab-wheels/public/simple/\n",
            "Collecting git+https://github.com/qubvel/segmentation_models\n",
            "  Cloning https://github.com/qubvel/segmentation_models to /tmp/pip-req-build-jnbyt8xr\n",
            "  Running command git clone -q https://github.com/qubvel/segmentation_models /tmp/pip-req-build-jnbyt8xr\n",
            "  Running command git submodule update --init --recursive -q\n",
            "Collecting keras_applications<=1.0.8,>=1.0.7\n",
            "  Downloading Keras_Applications-1.0.8-py3-none-any.whl (50 kB)\n",
            "\u001b[K     |████████████████████████████████| 50 kB 6.0 MB/s \n",
            "\u001b[?25hCollecting image-classifiers==1.0.0\n",
            "  Downloading image_classifiers-1.0.0-py3-none-any.whl (19 kB)\n",
            "Collecting efficientnet==1.0.0\n",
            "  Downloading efficientnet-1.0.0-py3-none-any.whl (17 kB)\n",
            "Requirement already satisfied: scikit-image in /usr/local/lib/python3.7/dist-packages (from efficientnet==1.0.0->segmentation-models==1.0.1) (0.18.3)\n",
            "Requirement already satisfied: numpy>=1.9.1 in /usr/local/lib/python3.7/dist-packages (from keras_applications<=1.0.8,>=1.0.7->segmentation-models==1.0.1) (1.21.6)\n",
            "Requirement already satisfied: h5py in /usr/local/lib/python3.7/dist-packages (from keras_applications<=1.0.8,>=1.0.7->segmentation-models==1.0.1) (3.1.0)\n",
            "Requirement already satisfied: cached-property in /usr/local/lib/python3.7/dist-packages (from h5py->keras_applications<=1.0.8,>=1.0.7->segmentation-models==1.0.1) (1.5.2)\n",
            "Requirement already satisfied: tifffile>=2019.7.26 in /usr/local/lib/python3.7/dist-packages (from scikit-image->efficientnet==1.0.0->segmentation-models==1.0.1) (2021.11.2)\n",
            "Requirement already satisfied: imageio>=2.3.0 in /usr/local/lib/python3.7/dist-packages (from scikit-image->efficientnet==1.0.0->segmentation-models==1.0.1) (2.9.0)\n",
            "Requirement already satisfied: pillow!=7.1.0,!=7.1.1,>=4.3.0 in /usr/local/lib/python3.7/dist-packages (from scikit-image->efficientnet==1.0.0->segmentation-models==1.0.1) (7.1.2)\n",
            "Requirement already satisfied: scipy>=1.0.1 in /usr/local/lib/python3.7/dist-packages (from scikit-image->efficientnet==1.0.0->segmentation-models==1.0.1) (1.7.3)\n",
            "Requirement already satisfied: PyWavelets>=1.1.1 in /usr/local/lib/python3.7/dist-packages (from scikit-image->efficientnet==1.0.0->segmentation-models==1.0.1) (1.3.0)\n",
            "Requirement already satisfied: networkx>=2.0 in /usr/local/lib/python3.7/dist-packages (from scikit-image->efficientnet==1.0.0->segmentation-models==1.0.1) (2.6.3)\n",
            "Requirement already satisfied: matplotlib!=3.0.0,>=2.0.0 in /usr/local/lib/python3.7/dist-packages (from scikit-image->efficientnet==1.0.0->segmentation-models==1.0.1) (3.2.2)\n",
            "Requirement already satisfied: kiwisolver>=1.0.1 in /usr/local/lib/python3.7/dist-packages (from matplotlib!=3.0.0,>=2.0.0->scikit-image->efficientnet==1.0.0->segmentation-models==1.0.1) (1.4.4)\n",
            "Requirement already satisfied: python-dateutil>=2.1 in /usr/local/lib/python3.7/dist-packages (from matplotlib!=3.0.0,>=2.0.0->scikit-image->efficientnet==1.0.0->segmentation-models==1.0.1) (2.8.2)\n",
            "Requirement already satisfied: cycler>=0.10 in /usr/local/lib/python3.7/dist-packages (from matplotlib!=3.0.0,>=2.0.0->scikit-image->efficientnet==1.0.0->segmentation-models==1.0.1) (0.11.0)\n",
            "Requirement already satisfied: pyparsing!=2.0.4,!=2.1.2,!=2.1.6,>=2.0.1 in /usr/local/lib/python3.7/dist-packages (from matplotlib!=3.0.0,>=2.0.0->scikit-image->efficientnet==1.0.0->segmentation-models==1.0.1) (3.0.9)\n",
            "Requirement already satisfied: typing-extensions in /usr/local/lib/python3.7/dist-packages (from kiwisolver>=1.0.1->matplotlib!=3.0.0,>=2.0.0->scikit-image->efficientnet==1.0.0->segmentation-models==1.0.1) (4.1.1)\n",
            "Requirement already satisfied: six>=1.5 in /usr/local/lib/python3.7/dist-packages (from python-dateutil>=2.1->matplotlib!=3.0.0,>=2.0.0->scikit-image->efficientnet==1.0.0->segmentation-models==1.0.1) (1.15.0)\n",
            "Building wheels for collected packages: segmentation-models\n",
            "  Building wheel for segmentation-models (setup.py) ... \u001b[?25l\u001b[?25hdone\n",
            "  Created wheel for segmentation-models: filename=segmentation_models-1.0.1-py3-none-any.whl size=33809 sha256=6099b8ebb3c9a4f5177d73971065a2b74a55e149189dc78134fd93d460de0bf3\n",
            "  Stored in directory: /tmp/pip-ephem-wheel-cache-ui1mbn32/wheels/02/cd/18/61c0bbb8766acfec68f9d20618886b7b38dfeeb95865b6ba00\n",
            "Successfully built segmentation-models\n",
            "Installing collected packages: keras-applications, image-classifiers, efficientnet, segmentation-models\n",
            "Successfully installed efficientnet-1.0.0 image-classifiers-1.0.0 keras-applications-1.0.8 segmentation-models-1.0.1\n"
          ]
        }
      ]
    },
    {
      "cell_type": "code",
      "source": [
        "from tensorflow.keras.models import Sequential \n",
        "from tensorflow.keras.layers import Conv2D\n",
        "from tensorflow.keras.layers import MaxPooling2D \n",
        "from tensorflow.keras.layers import Dense\n",
        "from tensorflow.keras.layers import Flatten \n",
        "from tensorflow.keras.optimizers import SGD\n",
        "\n",
        "def create_cnn() :\n",
        "  # define model using Sequential\n",
        "  model = Sequential()\n",
        "  # Adding convolution layer\n",
        "  model.add(Conv2D(32, (3,3), activation = 'relu', kernel_initializer = 'he_uniform', input_shape = (28, 28, 1))) \n",
        "  # The Maxpooling layer \n",
        "  model.add(MaxPooling2D((2,2)))\n",
        "  # Obtaining flat ten output\n",
        "  model.add(Flatten())\n",
        "  # Dense layer 100 neurons\n",
        "  model.add(Dense(100, activation ='relu', kernel_initializer = 'he_uniform'))\n",
        "  model.add(Dense(10, activation ='softmax'))\n",
        "  # initializes optimizer\n",
        "  opt = SGD(lr = 0.01, momentum = 0.9)\n",
        "  # compiles the model\n",
        "  model.compile(optimizer = opt, loss = 'categorical_crossentropy', metrics = ['accuracy']) \n",
        "  return model"
      ],
      "metadata": {
        "id": "VWUCFxXLbLnG"
      },
      "execution_count": null,
      "outputs": []
    },
    {
      "cell_type": "code",
      "source": [
        "#Creates overall sequential model\n",
        "model = create_cnn()\n",
        "model.summary()"
      ],
      "metadata": {
        "colab": {
          "base_uri": "https://localhost:8080/"
        },
        "id": "n1yRrlGrcq1-",
        "outputId": "ae1b5430-9f51-4fc6-91df-56c87857f7e3"
      },
      "execution_count": null,
      "outputs": [
        {
          "output_type": "stream",
          "name": "stdout",
          "text": [
            "Model: \"sequential_6\"\n",
            "_________________________________________________________________\n",
            " Layer (type)                Output Shape              Param #   \n",
            "=================================================================\n",
            " conv2d_10 (Conv2D)          (None, 26, 26, 32)        320       \n",
            "                                                                 \n",
            " max_pooling2d_7 (MaxPooling  (None, 13, 13, 32)       0         \n",
            " 2D)                                                             \n",
            "                                                                 \n",
            " flatten_6 (Flatten)         (None, 5408)              0         \n",
            "                                                                 \n",
            " dense_12 (Dense)            (None, 100)               540900    \n",
            "                                                                 \n",
            " dense_13 (Dense)            (None, 10)                1010      \n",
            "                                                                 \n",
            "=================================================================\n",
            "Total params: 542,230\n",
            "Trainable params: 542,230\n",
            "Non-trainable params: 0\n",
            "_________________________________________________________________\n"
          ]
        }
      ]
    },
    {
      "cell_type": "markdown",
      "source": [
        "d) training and evaluating CNN"
      ],
      "metadata": {
        "id": "NMAETrNMc3n5"
      }
    },
    {
      "cell_type": "code",
      "source": [
        "model.fit(train_x, train_y, batch_size = 32, epochs = 10, validation_split = 0.1)"
      ],
      "metadata": {
        "colab": {
          "base_uri": "https://localhost:8080/"
        },
        "id": "4mBoBmvycyiI",
        "outputId": "e3de85c2-7c54-4b17-feff-8387ebd1590b"
      },
      "execution_count": null,
      "outputs": [
        {
          "output_type": "stream",
          "name": "stdout",
          "text": [
            "Epoch 1/10\n",
            "1688/1688 [==============================] - 35s 20ms/step - loss: 0.1907 - accuracy: 0.9414 - val_loss: 0.0728 - val_accuracy: 0.9787\n",
            "Epoch 2/10\n",
            "1688/1688 [==============================] - 34s 20ms/step - loss: 0.0624 - accuracy: 0.9815 - val_loss: 0.0554 - val_accuracy: 0.9848\n",
            "Epoch 3/10\n",
            "1688/1688 [==============================] - 35s 20ms/step - loss: 0.0397 - accuracy: 0.9875 - val_loss: 0.0582 - val_accuracy: 0.9842\n",
            "Epoch 4/10\n",
            "1688/1688 [==============================] - 35s 21ms/step - loss: 0.0268 - accuracy: 0.9923 - val_loss: 0.0461 - val_accuracy: 0.9852\n",
            "Epoch 5/10\n",
            "1688/1688 [==============================] - 34s 20ms/step - loss: 0.0202 - accuracy: 0.9937 - val_loss: 0.0514 - val_accuracy: 0.9870\n",
            "Epoch 6/10\n",
            "1688/1688 [==============================] - 34s 20ms/step - loss: 0.0128 - accuracy: 0.9965 - val_loss: 0.0545 - val_accuracy: 0.9852\n",
            "Epoch 7/10\n",
            "1688/1688 [==============================] - 33s 19ms/step - loss: 0.0092 - accuracy: 0.9976 - val_loss: 0.0464 - val_accuracy: 0.9870\n",
            "Epoch 8/10\n",
            "1688/1688 [==============================] - 34s 20ms/step - loss: 0.0060 - accuracy: 0.9987 - val_loss: 0.0468 - val_accuracy: 0.9892\n",
            "Epoch 9/10\n",
            "1688/1688 [==============================] - 35s 21ms/step - loss: 0.0043 - accuracy: 0.9991 - val_loss: 0.0496 - val_accuracy: 0.9873\n",
            "Epoch 10/10\n",
            "1688/1688 [==============================] - 33s 20ms/step - loss: 0.0027 - accuracy: 0.9996 - val_loss: 0.0477 - val_accuracy: 0.9882\n"
          ]
        },
        {
          "output_type": "execute_result",
          "data": {
            "text/plain": [
              "<keras.callbacks.History at 0x7fb84575a2d0>"
            ]
          },
          "metadata": {},
          "execution_count": 81
        }
      ]
    },
    {
      "cell_type": "code",
      "source": [
        "# We print the loss and test accuracy over the 10 epochs\n",
        "loss, acc = model.evaluate(test_X, test_Y, verbose=0)\n",
        "print(f'Loss: {loss}, Test Accuracy: {acc}')"
      ],
      "metadata": {
        "colab": {
          "base_uri": "https://localhost:8080/"
        },
        "id": "iRh7VfwldVQe",
        "outputId": "920908b9-a9e2-4f84-d0f7-c13b26a421ad"
      },
      "execution_count": null,
      "outputs": [
        {
          "output_type": "stream",
          "name": "stdout",
          "text": [
            "Loss: 0.04288920760154724, Test Accuracy: 0.9886000156402588\n"
          ]
        }
      ]
    },
    {
      "cell_type": "markdown",
      "source": [
        "e) Experimentation"
      ],
      "metadata": {
        "id": "BcueuVW4dfv0"
      }
    },
    {
      "cell_type": "markdown",
      "source": [
        "i)"
      ],
      "metadata": {
        "id": "IuPFHa7IdliY"
      }
    },
    {
      "cell_type": "code",
      "source": [
        "epoch_history = model.fit(train_x, train_y, batch_size = 32, epochs = 50, validation_split = 0.1)"
      ],
      "metadata": {
        "colab": {
          "base_uri": "https://localhost:8080/"
        },
        "id": "fDHf4ayddoSb",
        "outputId": "c4d3ad17-2512-42ae-9a3f-38f1f9af7183"
      },
      "execution_count": null,
      "outputs": [
        {
          "output_type": "stream",
          "name": "stdout",
          "text": [
            "Epoch 1/50\n",
            "1688/1688 [==============================] - 64s 38ms/step - loss: 0.1752 - accuracy: 0.9460 - val_loss: 0.0770 - val_accuracy: 0.9782\n",
            "Epoch 2/50\n",
            "1688/1688 [==============================] - 63s 37ms/step - loss: 0.0538 - accuracy: 0.9836 - val_loss: 0.0577 - val_accuracy: 0.9835\n",
            "Epoch 3/50\n",
            "1688/1688 [==============================] - 75s 45ms/step - loss: 0.0280 - accuracy: 0.9912 - val_loss: 0.0528 - val_accuracy: 0.9873\n",
            "Epoch 4/50\n",
            "1688/1688 [==============================] - 67s 40ms/step - loss: 0.0160 - accuracy: 0.9955 - val_loss: 0.0550 - val_accuracy: 0.9863\n",
            "Epoch 5/50\n",
            "1688/1688 [==============================] - 65s 39ms/step - loss: 0.0087 - accuracy: 0.9977 - val_loss: 0.0525 - val_accuracy: 0.9882\n",
            "Epoch 6/50\n",
            "1688/1688 [==============================] - 67s 40ms/step - loss: 0.0045 - accuracy: 0.9991 - val_loss: 0.0572 - val_accuracy: 0.9877\n",
            "Epoch 7/50\n",
            "1688/1688 [==============================] - 64s 38ms/step - loss: 0.0019 - accuracy: 0.9998 - val_loss: 0.0618 - val_accuracy: 0.9877\n",
            "Epoch 8/50\n",
            "1688/1688 [==============================] - 61s 36ms/step - loss: 0.0011 - accuracy: 0.9999 - val_loss: 0.0597 - val_accuracy: 0.9892\n",
            "Epoch 9/50\n",
            "1688/1688 [==============================] - 60s 36ms/step - loss: 5.8730e-04 - accuracy: 1.0000 - val_loss: 0.0615 - val_accuracy: 0.9888\n",
            "Epoch 10/50\n",
            "1688/1688 [==============================] - 54s 32ms/step - loss: 4.6057e-04 - accuracy: 1.0000 - val_loss: 0.0626 - val_accuracy: 0.9890\n",
            "Epoch 11/50\n",
            "1688/1688 [==============================] - 58s 34ms/step - loss: 3.6765e-04 - accuracy: 1.0000 - val_loss: 0.0646 - val_accuracy: 0.9890\n",
            "Epoch 12/50\n",
            "1688/1688 [==============================] - 63s 37ms/step - loss: 3.0838e-04 - accuracy: 1.0000 - val_loss: 0.0656 - val_accuracy: 0.9895\n",
            "Epoch 13/50\n",
            "1688/1688 [==============================] - 61s 36ms/step - loss: 2.7116e-04 - accuracy: 1.0000 - val_loss: 0.0662 - val_accuracy: 0.9893\n",
            "Epoch 14/50\n",
            "1688/1688 [==============================] - 63s 38ms/step - loss: 2.4128e-04 - accuracy: 1.0000 - val_loss: 0.0671 - val_accuracy: 0.9887\n",
            "Epoch 15/50\n",
            "1688/1688 [==============================] - 58s 34ms/step - loss: 2.1916e-04 - accuracy: 1.0000 - val_loss: 0.0678 - val_accuracy: 0.9892\n",
            "Epoch 16/50\n",
            "1688/1688 [==============================] - 62s 37ms/step - loss: 1.9892e-04 - accuracy: 1.0000 - val_loss: 0.0685 - val_accuracy: 0.9892\n",
            "Epoch 17/50\n",
            "1688/1688 [==============================] - 73s 43ms/step - loss: 1.8326e-04 - accuracy: 1.0000 - val_loss: 0.0693 - val_accuracy: 0.9887\n",
            "Epoch 18/50\n",
            "1688/1688 [==============================] - 62s 37ms/step - loss: 1.7033e-04 - accuracy: 1.0000 - val_loss: 0.0700 - val_accuracy: 0.9888\n",
            "Epoch 19/50\n",
            "1688/1688 [==============================] - 67s 39ms/step - loss: 1.5790e-04 - accuracy: 1.0000 - val_loss: 0.0708 - val_accuracy: 0.9888\n",
            "Epoch 20/50\n",
            "1688/1688 [==============================] - 64s 38ms/step - loss: 1.4809e-04 - accuracy: 1.0000 - val_loss: 0.0709 - val_accuracy: 0.9887\n",
            "Epoch 21/50\n",
            "1688/1688 [==============================] - 63s 37ms/step - loss: 1.3863e-04 - accuracy: 1.0000 - val_loss: 0.0711 - val_accuracy: 0.9888\n",
            "Epoch 22/50\n",
            "1688/1688 [==============================] - 67s 40ms/step - loss: 1.3067e-04 - accuracy: 1.0000 - val_loss: 0.0718 - val_accuracy: 0.9887\n",
            "Epoch 23/50\n",
            "1688/1688 [==============================] - 61s 36ms/step - loss: 1.2381e-04 - accuracy: 1.0000 - val_loss: 0.0724 - val_accuracy: 0.9883\n",
            "Epoch 24/50\n",
            "1688/1688 [==============================] - 54s 32ms/step - loss: 1.1715e-04 - accuracy: 1.0000 - val_loss: 0.0729 - val_accuracy: 0.9885\n",
            "Epoch 25/50\n",
            "1688/1688 [==============================] - 55s 33ms/step - loss: 1.1142e-04 - accuracy: 1.0000 - val_loss: 0.0733 - val_accuracy: 0.9885\n",
            "Epoch 26/50\n",
            "1688/1688 [==============================] - 55s 32ms/step - loss: 1.0590e-04 - accuracy: 1.0000 - val_loss: 0.0735 - val_accuracy: 0.9885\n",
            "Epoch 27/50\n",
            "1688/1688 [==============================] - 54s 32ms/step - loss: 1.0112e-04 - accuracy: 1.0000 - val_loss: 0.0740 - val_accuracy: 0.9887\n",
            "Epoch 28/50\n",
            "1688/1688 [==============================] - 55s 32ms/step - loss: 9.7002e-05 - accuracy: 1.0000 - val_loss: 0.0744 - val_accuracy: 0.9885\n",
            "Epoch 29/50\n",
            "1688/1688 [==============================] - 54s 32ms/step - loss: 9.2867e-05 - accuracy: 1.0000 - val_loss: 0.0747 - val_accuracy: 0.9887\n",
            "Epoch 30/50\n",
            "1688/1688 [==============================] - 54s 32ms/step - loss: 8.9082e-05 - accuracy: 1.0000 - val_loss: 0.0750 - val_accuracy: 0.9882\n",
            "Epoch 31/50\n",
            "1688/1688 [==============================] - 56s 33ms/step - loss: 8.5367e-05 - accuracy: 1.0000 - val_loss: 0.0754 - val_accuracy: 0.9880\n",
            "Epoch 32/50\n",
            "1688/1688 [==============================] - 55s 32ms/step - loss: 8.2304e-05 - accuracy: 1.0000 - val_loss: 0.0757 - val_accuracy: 0.9882\n",
            "Epoch 33/50\n",
            "1688/1688 [==============================] - 54s 32ms/step - loss: 7.9245e-05 - accuracy: 1.0000 - val_loss: 0.0761 - val_accuracy: 0.9882\n",
            "Epoch 34/50\n",
            "1688/1688 [==============================] - 56s 33ms/step - loss: 7.6516e-05 - accuracy: 1.0000 - val_loss: 0.0763 - val_accuracy: 0.9878\n",
            "Epoch 35/50\n",
            "1688/1688 [==============================] - 54s 32ms/step - loss: 7.3895e-05 - accuracy: 1.0000 - val_loss: 0.0765 - val_accuracy: 0.9883\n",
            "Epoch 36/50\n",
            "1688/1688 [==============================] - 54s 32ms/step - loss: 7.1538e-05 - accuracy: 1.0000 - val_loss: 0.0767 - val_accuracy: 0.9883\n",
            "Epoch 37/50\n",
            "1688/1688 [==============================] - 55s 33ms/step - loss: 6.9041e-05 - accuracy: 1.0000 - val_loss: 0.0769 - val_accuracy: 0.9882\n",
            "Epoch 38/50\n",
            "1688/1688 [==============================] - 56s 33ms/step - loss: 6.6989e-05 - accuracy: 1.0000 - val_loss: 0.0774 - val_accuracy: 0.9885\n",
            "Epoch 39/50\n",
            "1688/1688 [==============================] - 54s 32ms/step - loss: 6.4794e-05 - accuracy: 1.0000 - val_loss: 0.0777 - val_accuracy: 0.9880\n",
            "Epoch 40/50\n",
            "1688/1688 [==============================] - 56s 33ms/step - loss: 6.2996e-05 - accuracy: 1.0000 - val_loss: 0.0779 - val_accuracy: 0.9880\n",
            "Epoch 41/50\n",
            "1688/1688 [==============================] - 57s 34ms/step - loss: 6.1252e-05 - accuracy: 1.0000 - val_loss: 0.0781 - val_accuracy: 0.9880\n",
            "Epoch 42/50\n",
            "1688/1688 [==============================] - 57s 34ms/step - loss: 5.9230e-05 - accuracy: 1.0000 - val_loss: 0.0783 - val_accuracy: 0.9880\n",
            "Epoch 43/50\n",
            "1688/1688 [==============================] - 56s 33ms/step - loss: 5.7891e-05 - accuracy: 1.0000 - val_loss: 0.0786 - val_accuracy: 0.9880\n",
            "Epoch 44/50\n",
            "1688/1688 [==============================] - 57s 34ms/step - loss: 5.6229e-05 - accuracy: 1.0000 - val_loss: 0.0787 - val_accuracy: 0.9880\n",
            "Epoch 45/50\n",
            "1688/1688 [==============================] - 56s 33ms/step - loss: 5.4754e-05 - accuracy: 1.0000 - val_loss: 0.0792 - val_accuracy: 0.9877\n",
            "Epoch 46/50\n",
            "1688/1688 [==============================] - 54s 32ms/step - loss: 5.3395e-05 - accuracy: 1.0000 - val_loss: 0.0793 - val_accuracy: 0.9880\n",
            "Epoch 47/50\n",
            "1688/1688 [==============================] - 55s 33ms/step - loss: 5.2070e-05 - accuracy: 1.0000 - val_loss: 0.0794 - val_accuracy: 0.9882\n",
            "Epoch 48/50\n",
            "1688/1688 [==============================] - 52s 31ms/step - loss: 5.0819e-05 - accuracy: 1.0000 - val_loss: 0.0797 - val_accuracy: 0.9880\n",
            "Epoch 49/50\n",
            "1688/1688 [==============================] - 54s 32ms/step - loss: 4.9534e-05 - accuracy: 1.0000 - val_loss: 0.0799 - val_accuracy: 0.9878\n",
            "Epoch 50/50\n",
            "1688/1688 [==============================] - 57s 34ms/step - loss: 4.8374e-05 - accuracy: 1.0000 - val_loss: 0.0799 - val_accuracy: 0.9878\n"
          ]
        }
      ]
    },
    {
      "cell_type": "code",
      "source": [
        "# This prints the overall validation and training accuracy over all epochs\n",
        "print(epoch_history.history['accuracy'])\n",
        "print(epoch_history.history['val_accuracy'])"
      ],
      "metadata": {
        "colab": {
          "base_uri": "https://localhost:8080/"
        },
        "id": "2PAseph1dwG8",
        "outputId": "1e5e01e7-a11f-48dc-8f22-6be88f986358"
      },
      "execution_count": null,
      "outputs": [
        {
          "output_type": "stream",
          "name": "stdout",
          "text": [
            "[0.9459629654884338, 0.9835555553436279, 0.9912222027778625, 0.9954814910888672, 0.9977222084999084, 0.9991296529769897, 0.9998148083686829, 0.9999259114265442, 1.0, 1.0, 1.0, 1.0, 1.0, 1.0, 1.0, 1.0, 1.0, 1.0, 1.0, 1.0, 1.0, 1.0, 1.0, 1.0, 1.0, 1.0, 1.0, 1.0, 1.0, 1.0, 1.0, 1.0, 1.0, 1.0, 1.0, 1.0, 1.0, 1.0, 1.0, 1.0, 1.0, 1.0, 1.0, 1.0, 1.0, 1.0, 1.0, 1.0, 1.0, 1.0]\n",
            "[0.9781666398048401, 0.9835000038146973, 0.987333357334137, 0.9863333106040955, 0.9881666898727417, 0.987666666507721, 0.987666666507721, 0.9891666769981384, 0.9888333082199097, 0.9890000224113464, 0.9890000224113464, 0.9894999861717224, 0.9893333315849304, 0.9886666536331177, 0.9891666769981384, 0.9891666769981384, 0.9886666536331177, 0.9888333082199097, 0.9888333082199097, 0.9886666536331177, 0.9888333082199097, 0.9886666536331177, 0.9883333444595337, 0.9884999990463257, 0.9884999990463257, 0.9884999990463257, 0.9886666536331177, 0.9884999990463257, 0.9886666536331177, 0.9881666898727417, 0.9879999756813049, 0.9881666898727417, 0.9881666898727417, 0.9878333210945129, 0.9883333444595337, 0.9883333444595337, 0.9881666898727417, 0.9884999990463257, 0.9879999756813049, 0.9879999756813049, 0.9879999756813049, 0.9879999756813049, 0.9879999756813049, 0.9879999756813049, 0.987666666507721, 0.9879999756813049, 0.9881666898727417, 0.9879999756813049, 0.9878333210945129, 0.9878333210945129]\n"
          ]
        }
      ]
    },
    {
      "cell_type": "code",
      "source": [
        "plt.plot(epoch_history.history['accuracy'], label = 'Training accuracy')\n",
        "plt.plot(epoch_history.history['val_accuracy'], label = 'Validation accuracy')\n",
        "plt.title(\"Training CNN Accuracy\")\n",
        "plt.xlabel('Epoch')\n",
        "plt.ylabel('Accuracy')\n",
        "plt.ylim([0.985, 1.005])\n",
        "plt.legend(loc = 'lower right')"
      ],
      "metadata": {
        "colab": {
          "base_uri": "https://localhost:8080/",
          "height": 313
        },
        "id": "l1Vl3lBQd16i",
        "outputId": "9553d591-d3e2-4c8c-a9a4-8fb0bbddc8f0"
      },
      "execution_count": null,
      "outputs": [
        {
          "output_type": "execute_result",
          "data": {
            "text/plain": [
              "<matplotlib.legend.Legend at 0x7fb8440a0810>"
            ]
          },
          "metadata": {},
          "execution_count": 102
        },
        {
          "output_type": "display_data",
          "data": {
            "text/plain": [
              "<Figure size 432x288 with 1 Axes>"
            ],
            "image/png": "[encoded data removed]"
          },
          "metadata": {
            "needs_background": "light"
          }
        }
      ]
    },
    {
      "cell_type": "code",
      "source": [
        "# This prints the overall loss and test accuracy over epochs\n",
        "loss, acc = model.evaluate(test_x, test_y, verbose=0) \n",
        "print(f'Loss: {loss}, Test Accuracy: {acc}')"
      ],
      "metadata": {
        "colab": {
          "base_uri": "https://localhost:8080/"
        },
        "id": "Z_3TDUiAd62K",
        "outputId": "4f28d9b3-5f98-4e91-c8dc-9ad43d3d262b"
      },
      "execution_count": null,
      "outputs": [
        {
          "output_type": "stream",
          "name": "stdout",
          "text": [
            "Loss: 0.07041120529174805, Test Accuracy: 0.9860000014305115\n"
          ]
        }
      ]
    },
    {
      "cell_type": "code",
      "source": [
        "from tensorflow.keras.layers import Dropout\n",
        "\n",
        "# CNN with the dropout\n",
        "def create_cnn1() :\n",
        "    # define using Sequential \n",
        "    model = Sequential()\n",
        "\n",
        "    # Convolution layer\n",
        "    model.add(Conv2D(32, (3,3), activation = 'relu', kernel_initializer= 'he_uniform', input_shape = (28, 28, 1)))\n",
        "    # Maxpooling layer\n",
        "    model.add(MaxPooling2D((2,2))) # Flatten output\n",
        "    model.add(Flatten()) \n",
        "    \n",
        "    # The Dropout\n",
        "    model.add(Dropout(0.5))\n",
        "\n",
        "    # Dense layer 100 neurons\n",
        "    model.add(Dense(100, activation ='relu', kernel_initializer = 'he_uniform'))\n",
        "\n",
        "    model.add(Dense(10, activation ='softmax')) \n",
        "    # initializing the optimizer\n",
        "\n",
        "    opt = SGD(lr = 0.01, momentum = 0.9)\n",
        "    # compiling model\n",
        "\n",
        "    model.compile(optimizer = opt, loss = 'categorical_crossentropy', metrics = ['accuracy'])\n",
        "\n",
        "    return model"
      ],
      "metadata": {
        "id": "WZf2MXyGeFUd"
      },
      "execution_count": null,
      "outputs": []
    },
    {
      "cell_type": "code",
      "source": [
        "#creates the CNN1\n",
        "model = create_cnn1()"
      ],
      "metadata": {
        "id": "ejozGAxXepxO"
      },
      "execution_count": null,
      "outputs": []
    },
    {
      "cell_type": "code",
      "source": [
        "epoch_history1 = model.fit(train_x, train_y, batch_size = 32, epochs = 50, validation_split = 0.1)"
      ],
      "metadata": {
        "colab": {
          "base_uri": "https://localhost:8080/"
        },
        "id": "fYO5S0maetvI",
        "outputId": "f151b428-8b70-4324-dc2d-62dc73992c2d"
      },
      "execution_count": null,
      "outputs": [
        {
          "output_type": "stream",
          "name": "stdout",
          "text": [
            "Epoch 1/50\n",
            "1688/1688 [==============================] - 41s 24ms/step - loss: 0.2312 - accuracy: 0.9280 - val_loss: 0.0624 - val_accuracy: 0.9827\n",
            "Epoch 2/50\n",
            "1688/1688 [==============================] - 40s 23ms/step - loss: 0.0914 - accuracy: 0.9718 - val_loss: 0.0500 - val_accuracy: 0.9865\n",
            "Epoch 3/50\n",
            "1688/1688 [==============================] - 39s 23ms/step - loss: 0.0663 - accuracy: 0.9797 - val_loss: 0.0458 - val_accuracy: 0.9882\n",
            "Epoch 4/50\n",
            "1688/1688 [==============================] - 39s 23ms/step - loss: 0.0532 - accuracy: 0.9827 - val_loss: 0.0441 - val_accuracy: 0.9877\n",
            "Epoch 5/50\n",
            "1688/1688 [==============================] - 40s 24ms/step - loss: 0.0463 - accuracy: 0.9839 - val_loss: 0.0435 - val_accuracy: 0.9877\n",
            "Epoch 6/50\n",
            "1688/1688 [==============================] - 41s 24ms/step - loss: 0.0417 - accuracy: 0.9859 - val_loss: 0.0388 - val_accuracy: 0.9887\n",
            "Epoch 7/50\n",
            "1688/1688 [==============================] - 40s 24ms/step - loss: 0.0356 - accuracy: 0.9884 - val_loss: 0.0369 - val_accuracy: 0.9890\n",
            "Epoch 8/50\n",
            "1688/1688 [==============================] - 40s 24ms/step - loss: 0.0319 - accuracy: 0.9893 - val_loss: 0.0402 - val_accuracy: 0.9895\n",
            "Epoch 9/50\n",
            "1688/1688 [==============================] - 39s 23ms/step - loss: 0.0277 - accuracy: 0.9909 - val_loss: 0.0413 - val_accuracy: 0.9900\n",
            "Epoch 10/50\n",
            "1688/1688 [==============================] - 41s 24ms/step - loss: 0.0254 - accuracy: 0.9914 - val_loss: 0.0411 - val_accuracy: 0.9903\n",
            "Epoch 11/50\n",
            "1688/1688 [==============================] - 40s 24ms/step - loss: 0.0237 - accuracy: 0.9923 - val_loss: 0.0422 - val_accuracy: 0.9898\n",
            "Epoch 12/50\n",
            "1688/1688 [==============================] - 39s 23ms/step - loss: 0.0222 - accuracy: 0.9921 - val_loss: 0.0398 - val_accuracy: 0.9898\n",
            "Epoch 13/50\n",
            "1688/1688 [==============================] - 39s 23ms/step - loss: 0.0202 - accuracy: 0.9933 - val_loss: 0.0406 - val_accuracy: 0.9912\n",
            "Epoch 14/50\n",
            "1688/1688 [==============================] - 39s 23ms/step - loss: 0.0185 - accuracy: 0.9939 - val_loss: 0.0391 - val_accuracy: 0.9905\n",
            "Epoch 15/50\n",
            "1688/1688 [==============================] - 40s 24ms/step - loss: 0.0173 - accuracy: 0.9940 - val_loss: 0.0412 - val_accuracy: 0.9907\n",
            "Epoch 16/50\n",
            "1688/1688 [==============================] - 39s 23ms/step - loss: 0.0176 - accuracy: 0.9942 - val_loss: 0.0467 - val_accuracy: 0.9902\n",
            "Epoch 17/50\n",
            "1688/1688 [==============================] - 39s 23ms/step - loss: 0.0150 - accuracy: 0.9947 - val_loss: 0.0372 - val_accuracy: 0.9913\n",
            "Epoch 18/50\n",
            "1688/1688 [==============================] - 39s 23ms/step - loss: 0.0157 - accuracy: 0.9946 - val_loss: 0.0373 - val_accuracy: 0.9912\n",
            "Epoch 19/50\n",
            "1688/1688 [==============================] - 40s 24ms/step - loss: 0.0123 - accuracy: 0.9957 - val_loss: 0.0468 - val_accuracy: 0.9898\n",
            "Epoch 20/50\n",
            "1688/1688 [==============================] - 39s 23ms/step - loss: 0.0129 - accuracy: 0.9956 - val_loss: 0.0451 - val_accuracy: 0.9900\n",
            "Epoch 21/50\n",
            "1688/1688 [==============================] - 39s 23ms/step - loss: 0.0119 - accuracy: 0.9962 - val_loss: 0.0425 - val_accuracy: 0.9903\n",
            "Epoch 22/50\n",
            "1688/1688 [==============================] - 39s 23ms/step - loss: 0.0115 - accuracy: 0.9958 - val_loss: 0.0411 - val_accuracy: 0.9905\n",
            "Epoch 23/50\n",
            "1688/1688 [==============================] - 39s 23ms/step - loss: 0.0108 - accuracy: 0.9963 - val_loss: 0.0411 - val_accuracy: 0.9910\n",
            "Epoch 24/50\n",
            "1688/1688 [==============================] - 39s 23ms/step - loss: 0.0109 - accuracy: 0.9961 - val_loss: 0.0414 - val_accuracy: 0.9910\n",
            "Epoch 25/50\n",
            "1688/1688 [==============================] - 39s 23ms/step - loss: 0.0103 - accuracy: 0.9964 - val_loss: 0.0414 - val_accuracy: 0.9913\n",
            "Epoch 26/50\n",
            "1688/1688 [==============================] - 39s 23ms/step - loss: 0.0099 - accuracy: 0.9965 - val_loss: 0.0451 - val_accuracy: 0.9905\n",
            "Epoch 27/50\n",
            "1688/1688 [==============================] - 38s 22ms/step - loss: 0.0094 - accuracy: 0.9967 - val_loss: 0.0441 - val_accuracy: 0.9898\n",
            "Epoch 28/50\n",
            "1688/1688 [==============================] - 39s 23ms/step - loss: 0.0095 - accuracy: 0.9967 - val_loss: 0.0397 - val_accuracy: 0.9905\n",
            "Epoch 29/50\n",
            "1688/1688 [==============================] - 37s 22ms/step - loss: 0.0089 - accuracy: 0.9970 - val_loss: 0.0451 - val_accuracy: 0.9907\n",
            "Epoch 30/50\n",
            "1688/1688 [==============================] - 37s 22ms/step - loss: 0.0083 - accuracy: 0.9974 - val_loss: 0.0413 - val_accuracy: 0.9908\n",
            "Epoch 31/50\n",
            "1688/1688 [==============================] - 38s 23ms/step - loss: 0.0087 - accuracy: 0.9972 - val_loss: 0.0455 - val_accuracy: 0.9913\n",
            "Epoch 32/50\n",
            "1688/1688 [==============================] - 40s 24ms/step - loss: 0.0076 - accuracy: 0.9973 - val_loss: 0.0492 - val_accuracy: 0.9902\n",
            "Epoch 33/50\n",
            "1688/1688 [==============================] - 39s 23ms/step - loss: 0.0069 - accuracy: 0.9975 - val_loss: 0.0467 - val_accuracy: 0.9908\n",
            "Epoch 34/50\n",
            "1688/1688 [==============================] - 44s 26ms/step - loss: 0.0079 - accuracy: 0.9973 - val_loss: 0.0435 - val_accuracy: 0.9917\n",
            "Epoch 35/50\n",
            "1688/1688 [==============================] - 41s 24ms/step - loss: 0.0064 - accuracy: 0.9977 - val_loss: 0.0472 - val_accuracy: 0.9897\n",
            "Epoch 36/50\n",
            "1688/1688 [==============================] - 41s 24ms/step - loss: 0.0070 - accuracy: 0.9975 - val_loss: 0.0428 - val_accuracy: 0.9912\n",
            "Epoch 37/50\n",
            "1688/1688 [==============================] - 41s 24ms/step - loss: 0.0078 - accuracy: 0.9972 - val_loss: 0.0457 - val_accuracy: 0.9915\n",
            "Epoch 38/50\n",
            "1688/1688 [==============================] - 40s 24ms/step - loss: 0.0069 - accuracy: 0.9974 - val_loss: 0.0409 - val_accuracy: 0.9917\n",
            "Epoch 39/50\n",
            "1688/1688 [==============================] - 39s 23ms/step - loss: 0.0061 - accuracy: 0.9980 - val_loss: 0.0396 - val_accuracy: 0.9908\n",
            "Epoch 40/50\n",
            "1688/1688 [==============================] - 39s 23ms/step - loss: 0.0058 - accuracy: 0.9980 - val_loss: 0.0547 - val_accuracy: 0.9903\n",
            "Epoch 41/50\n",
            "1688/1688 [==============================] - 41s 24ms/step - loss: 0.0055 - accuracy: 0.9982 - val_loss: 0.0419 - val_accuracy: 0.9922\n",
            "Epoch 42/50\n",
            "1688/1688 [==============================] - 39s 23ms/step - loss: 0.0056 - accuracy: 0.9981 - val_loss: 0.0451 - val_accuracy: 0.9912\n",
            "Epoch 43/50\n",
            "1688/1688 [==============================] - 39s 23ms/step - loss: 0.0061 - accuracy: 0.9979 - val_loss: 0.0421 - val_accuracy: 0.9918\n",
            "Epoch 44/50\n",
            "1688/1688 [==============================] - 39s 23ms/step - loss: 0.0055 - accuracy: 0.9981 - val_loss: 0.0474 - val_accuracy: 0.9900\n",
            "Epoch 45/50\n",
            "1688/1688 [==============================] - 40s 24ms/step - loss: 0.0058 - accuracy: 0.9980 - val_loss: 0.0474 - val_accuracy: 0.9917\n",
            "Epoch 46/50\n",
            "1688/1688 [==============================] - 39s 23ms/step - loss: 0.0059 - accuracy: 0.9980 - val_loss: 0.0448 - val_accuracy: 0.9912\n",
            "Epoch 47/50\n",
            "1688/1688 [==============================] - 39s 23ms/step - loss: 0.0054 - accuracy: 0.9982 - val_loss: 0.0478 - val_accuracy: 0.9910\n",
            "Epoch 48/50\n",
            "1688/1688 [==============================] - 39s 23ms/step - loss: 0.0056 - accuracy: 0.9981 - val_loss: 0.0440 - val_accuracy: 0.9923\n",
            "Epoch 49/50\n",
            "1688/1688 [==============================] - 39s 23ms/step - loss: 0.0044 - accuracy: 0.9985 - val_loss: 0.0525 - val_accuracy: 0.9900\n",
            "Epoch 50/50\n",
            "1688/1688 [==============================] - 40s 24ms/step - loss: 0.0059 - accuracy: 0.9981 - val_loss: 0.0445 - val_accuracy: 0.9915\n"
          ]
        }
      ]
    },
    {
      "cell_type": "code",
      "source": [
        "# prints the validation and training accuracy over the epochs\n",
        "print(epoch_history1.history['accuracy'])\n",
        "print(epoch_history1.history['val_accuracy'])"
      ],
      "metadata": {
        "colab": {
          "base_uri": "https://localhost:8080/"
        },
        "id": "9-owiRHOexLL",
        "outputId": "0f57d5df-797d-4576-b5da-0280046282bb"
      },
      "execution_count": null,
      "outputs": [
        {
          "output_type": "stream",
          "name": "stdout",
          "text": [
            "[0.9279814958572388, 0.9717962741851807, 0.9797407388687134, 0.982703685760498, 0.9838703870773315, 0.9859444499015808, 0.9884259104728699, 0.9893333315849304, 0.9909444451332092, 0.9914259314537048, 0.9922962784767151, 0.9920926094055176, 0.993314802646637, 0.9939444661140442, 0.9940000176429749, 0.9942036867141724, 0.9947407245635986, 0.9946481585502625, 0.9957407116889954, 0.9956481456756592, 0.9961851835250854, 0.9958333373069763, 0.9963148236274719, 0.9960926175117493, 0.9964444637298584, 0.9964629411697388, 0.9967407584190369, 0.9966852068901062, 0.9969815015792847, 0.9974074363708496, 0.9972222447395325, 0.997259259223938, 0.9975185394287109, 0.9973148107528687, 0.9977407455444336, 0.9975000023841858, 0.9972037076950073, 0.9974074363708496, 0.9980185031890869, 0.9979629516601562, 0.9982407689094543, 0.9980555772781372, 0.9979259371757507, 0.9981296062469482, 0.9980000257492065, 0.9980185031890869, 0.9982407689094543, 0.9981296062469482, 0.9984814524650574, 0.9980925917625427]\n",
            "[0.9826666712760925, 0.9865000247955322, 0.9881666898727417, 0.987666666507721, 0.987666666507721, 0.9886666536331177, 0.9890000224113464, 0.9894999861717224, 0.9900000095367432, 0.9903333187103271, 0.9898333549499512, 0.9898333549499512, 0.9911666512489319, 0.9904999732971191, 0.9906666874885559, 0.9901666641235352, 0.9913333058357239, 0.9911666512489319, 0.9898333549499512, 0.9900000095367432, 0.9903333187103271, 0.9904999732971191, 0.9909999966621399, 0.9909999966621399, 0.9913333058357239, 0.9904999732971191, 0.9898333549499512, 0.9904999732971191, 0.9906666874885559, 0.9908333420753479, 0.9913333058357239, 0.9901666641235352, 0.9908333420753479, 0.9916666746139526, 0.9896666407585144, 0.9911666512489319, 0.9915000200271606, 0.9916666746139526, 0.9908333420753479, 0.9903333187103271, 0.9921666383743286, 0.9911666512489319, 0.9918333292007446, 0.9900000095367432, 0.9916666746139526, 0.9911666512489319, 0.9909999966621399, 0.9923333525657654, 0.9900000095367432, 0.9915000200271606]\n"
          ]
        }
      ]
    },
    {
      "cell_type": "code",
      "source": [
        "# prints the validation and training accuracy over the epochs\n",
        "plt.plot(epoch_history1.history['accuracy'], label = 'Training accuracy')\n",
        "plt.plot(epoch_history1.history['val_accuracy'], label = 'Validation accuracy')\n",
        "plt.title(\"Training CNN with dropout layer Accuracy \")\n",
        "plt.xlabel('Epoch')\n",
        "plt.ylabel('Accuracy')\n",
        "plt.ylim([0.935, 1.005])\n",
        "plt.legend(loc = 'lower right')"
      ],
      "metadata": {
        "colab": {
          "base_uri": "https://localhost:8080/",
          "height": 313
        },
        "id": "oCFgxe-Me15i",
        "outputId": "1f946571-8206-4498-bf3f-aaa6e7797d62"
      },
      "execution_count": null,
      "outputs": [
        {
          "output_type": "execute_result",
          "data": {
            "text/plain": [
              "<matplotlib.legend.Legend at 0x7fb844007a10>"
            ]
          },
          "metadata": {},
          "execution_count": 103
        },
        {
          "output_type": "display_data",
          "data": {
            "text/plain": [
              "<Figure size 432x288 with 1 Axes>"
            ],
            "image/png": "[encoded data removed]"
          },
          "metadata": {
            "needs_background": "light"
          }
        }
      ]
    },
    {
      "cell_type": "code",
      "source": [
        "# print loss and test accuracy over epochs\n",
        "loss, acc = model.evaluate(test_x, test_y, verbose=0) \n",
        "print(f'Loss: {loss}, Test Accuracy: {acc}')"
      ],
      "metadata": {
        "colab": {
          "base_uri": "https://localhost:8080/"
        },
        "id": "OLHprFewe5IC",
        "outputId": "d7af5caa-7612-4d14-b09a-296faa5ec9f0"
      },
      "execution_count": null,
      "outputs": [
        {
          "output_type": "stream",
          "name": "stdout",
          "text": [
            "Loss: 0.03739070147275925, Test Accuracy: 0.9909999966621399\n"
          ]
        }
      ]
    },
    {
      "cell_type": "markdown",
      "source": [
        "iii."
      ],
      "metadata": {
        "id": "mX4oezVbe-Pn"
      }
    },
    {
      "cell_type": "code",
      "source": [
        "# The CNN with two convolution layers\n",
        "def create_cnn2() :\n",
        "    # defining using Sequential \n",
        "    model = Sequential()\n",
        "\n",
        "    # Convolution layer\n",
        "    model.add(Conv2D(32, (3,3), activation = 'relu', kernel_initializer= 'he_uniform', input_shape = (28, 28, 1)))\n",
        "    \n",
        "    # Maxpooling layer\n",
        "    model.add(MaxPooling2D((2,2)))\n",
        "    \n",
        "    # Addes new Convolution layer\n",
        "    model.add(Conv2D(64, (3,3), activation = 'relu', kernel_initializer = 'he_uniform', input_shape = (28, 28, 1)))\n",
        "\n",
        "    # New Maxpooling layer\n",
        "    model.add(MaxPooling2D((2,2))) # Flatten output\n",
        "    model.add(Flatten())\n",
        "     # The Dropout\n",
        "    model.add(Dropout(0.5))\n",
        "    # Dense layer 100 neurons\n",
        "    model.add(Dense (100, activation ='relu', kernel_initializer = 'he_uniform'))\n",
        "    model.add(Dense(10, activation ='softmax')) # initialize optimizer\n",
        "    opt = SGD(lr = 0.01, momentum = 0.9)\n",
        "    # compiles the model\n",
        "    model.compile(optimizer = opt, loss = 'categorical_crossentropy', metrics = ['accuracy'])\n",
        "    return model"
      ],
      "metadata": {
        "id": "dWxO00yFe_zW"
      },
      "execution_count": null,
      "outputs": []
    },
    {
      "cell_type": "code",
      "source": [
        "#Creates the second CNN model\n",
        "model = create_cnn2()"
      ],
      "metadata": {
        "id": "T3Hmbv9Bfo-N"
      },
      "execution_count": null,
      "outputs": []
    },
    {
      "cell_type": "code",
      "source": [
        "epoch_history2 = model.fit(train_x, train_y, batch_size = 32, epochs = 10, validation_split = 0.1)"
      ],
      "metadata": {
        "colab": {
          "base_uri": "https://localhost:8080/"
        },
        "id": "Un3tJ6UXfwhy",
        "outputId": "8017ee51-07c1-4d80-9a28-402ce15a2acf"
      },
      "execution_count": null,
      "outputs": [
        {
          "output_type": "stream",
          "name": "stdout",
          "text": [
            "Epoch 1/10\n",
            "1688/1688 [==============================] - 57s 33ms/step - loss: 0.1973 - accuracy: 0.9378 - val_loss: 0.0592 - val_accuracy: 0.9818\n",
            "Epoch 2/10\n",
            "1688/1688 [==============================] - 58s 34ms/step - loss: 0.0780 - accuracy: 0.9753 - val_loss: 0.0440 - val_accuracy: 0.9877\n",
            "Epoch 3/10\n",
            "1688/1688 [==============================] - 56s 33ms/step - loss: 0.0619 - accuracy: 0.9801 - val_loss: 0.0328 - val_accuracy: 0.9912\n",
            "Epoch 4/10\n",
            "1688/1688 [==============================] - 55s 33ms/step - loss: 0.0514 - accuracy: 0.9836 - val_loss: 0.0332 - val_accuracy: 0.9893\n",
            "Epoch 5/10\n",
            "1688/1688 [==============================] - 57s 34ms/step - loss: 0.0438 - accuracy: 0.9857 - val_loss: 0.0303 - val_accuracy: 0.9907\n",
            "Epoch 6/10\n",
            "1688/1688 [==============================] - 56s 33ms/step - loss: 0.0400 - accuracy: 0.9873 - val_loss: 0.0304 - val_accuracy: 0.9923\n",
            "Epoch 7/10\n",
            "1688/1688 [==============================] - 56s 33ms/step - loss: 0.0358 - accuracy: 0.9881 - val_loss: 0.0281 - val_accuracy: 0.9927\n",
            "Epoch 8/10\n",
            "1688/1688 [==============================] - 57s 34ms/step - loss: 0.0333 - accuracy: 0.9889 - val_loss: 0.0278 - val_accuracy: 0.9923\n",
            "Epoch 9/10\n",
            "1688/1688 [==============================] - 56s 33ms/step - loss: 0.0301 - accuracy: 0.9899 - val_loss: 0.0293 - val_accuracy: 0.9928\n",
            "Epoch 10/10\n",
            "1688/1688 [==============================] - 56s 33ms/step - loss: 0.0286 - accuracy: 0.9902 - val_loss: 0.0285 - val_accuracy: 0.9930\n"
          ]
        }
      ]
    },
    {
      "cell_type": "code",
      "source": [
        "# prints overall validation and training accuracy over epochs\n",
        "print(epoch_history2.history['accuracy'])\n",
        "print(epoch_history2.history['val_accuracy'])"
      ],
      "metadata": {
        "colab": {
          "base_uri": "https://localhost:8080/"
        },
        "id": "oCoEaueSf65j",
        "outputId": "d29d15b1-c353-43c9-a5a3-9e4c76d1864a"
      },
      "execution_count": null,
      "outputs": [
        {
          "output_type": "stream",
          "name": "stdout",
          "text": [
            "[0.9377777576446533, 0.9753147959709167, 0.9801296591758728, 0.9835740923881531, 0.9857407212257385, 0.9872592687606812, 0.9881296157836914, 0.9889444708824158, 0.9899444580078125, 0.990240752696991]\n",
            "[0.9818333387374878, 0.987666666507721, 0.9911666512489319, 0.9893333315849304, 0.9906666874885559, 0.9923333525657654, 0.9926666617393494, 0.9923333525657654, 0.9928333163261414, 0.9929999709129333]\n"
          ]
        }
      ]
    },
    {
      "cell_type": "code",
      "source": [
        "# plot validation and training accuracy over epochs\n",
        "plt.plot(epoch_history2.history['accuracy'], label = 'Training accuracy')\n",
        "plt.plot(epoch_history2.history['val_accuracy'], label = 'Validation accuracy')\n",
        "plt.title(\"Training CNN with Two Convolution Layers Accuracy\")\n",
        "plt.xlabel('Epoch')\n",
        "plt.ylabel('Accuracy')\n",
        "plt.ylim([0.935, 1.005])\n",
        "plt.legend(loc = 'lower right')"
      ],
      "metadata": {
        "colab": {
          "base_uri": "https://localhost:8080/",
          "height": 313
        },
        "id": "jmlnJ31NgCFL",
        "outputId": "0995d129-a507-4f2d-d70e-17ab84c20b3e"
      },
      "execution_count": null,
      "outputs": [
        {
          "output_type": "execute_result",
          "data": {
            "text/plain": [
              "<matplotlib.legend.Legend at 0x7fb843e70950>"
            ]
          },
          "metadata": {},
          "execution_count": 106
        },
        {
          "output_type": "display_data",
          "data": {
            "text/plain": [
              "<Figure size 432x288 with 1 Axes>"
            ],
            "image/png": "[encoded data removed]"
          },
          "metadata": {
            "needs_background": "light"
          }
        }
      ]
    },
    {
      "cell_type": "code",
      "source": [
        "# print loss and test accuracy over epochs\n",
        "loss, acc = model.evaluate(test_x, test_y, verbose=0) \n",
        "print(f'Loss: {loss}, Test Accuracy: {acc}')"
      ],
      "metadata": {
        "colab": {
          "base_uri": "https://localhost:8080/"
        },
        "id": "rg0T_UJXgEBb",
        "outputId": "e296bb83-a746-48d3-f6d2-e92507a35602"
      },
      "execution_count": null,
      "outputs": [
        {
          "output_type": "stream",
          "name": "stdout",
          "text": [
            "Loss: 0.023197347298264503, Test Accuracy: 0.9921000003814697\n"
          ]
        }
      ]
    },
    {
      "cell_type": "code",
      "source": [
        "# New CNN with the lr = 0.001\n",
        "def create_cnn3() :\n",
        "    # defines using Sequential \n",
        "    model = Sequential()\n",
        "\n",
        "    # Adding Convolution layer\n",
        "    model.add(Conv2D(32, (3,3), activation = 'relu', kernel_initializer= 'he_uniform', input_shape = (28, 28, 1)))\n",
        "    # Adding Maxpooling layer\n",
        "    model.add(MaxPooling2D((2,2)))\n",
        "    # Adding New Convolution layer\n",
        "    model.add(Conv2D(64, (3,3), activation = 'relu', kernel_initializer= 'he_uniform', input_shape = (28, 28, 1)))\n",
        "    # Adding New Maxpooling layer\n",
        "    model.add(MaxPooling2D((2,2))) \n",
        "    # The Flatten output\n",
        "    model.add(Flatten()) \n",
        "    # The Dropout\n",
        "    model.add(Dropout(0.5))\n",
        "    # Dense layer 100 neurons\n",
        "    model.add(Dense (100, activation ='relu', kernel_initializer = 'he_uniform'))\n",
        "\n",
        "    model.add(Dense(10, activation ='softmax'))\n",
        "    # initializes the optimizer\n",
        "    opt = SGD(lr = 0.001, momentum = 0.9)\n",
        "    # compiles the model\n",
        "    model.compile(optimizer = opt, loss = 'categorical_crossentropy', metrics = ['accuracy']) \n",
        "    return model"
      ],
      "metadata": {
        "id": "aw9QeFuBgQYy"
      },
      "execution_count": null,
      "outputs": []
    },
    {
      "cell_type": "code",
      "source": [
        "# Creates the third CNN\n",
        "model = create_cnn3()"
      ],
      "metadata": {
        "id": "9WSZT_E4gta2"
      },
      "execution_count": null,
      "outputs": []
    },
    {
      "cell_type": "code",
      "source": [
        "epoch_history3 = model.fit(train_x, train_y, batch_size = 32, epochs = 10, validation_split = 0.1)"
      ],
      "metadata": {
        "colab": {
          "base_uri": "https://localhost:8080/"
        },
        "id": "zJLSFNC6g2li",
        "outputId": "6de39bc1-e78f-4db0-bb0c-59e74d706c22"
      },
      "execution_count": null,
      "outputs": [
        {
          "output_type": "stream",
          "name": "stdout",
          "text": [
            "Epoch 1/10\n",
            "1688/1688 [==============================] - 57s 33ms/step - loss: 0.4210 - accuracy: 0.8670 - val_loss: 0.0976 - val_accuracy: 0.9722\n",
            "Epoch 2/10\n",
            "1688/1688 [==============================] - 56s 33ms/step - loss: 0.1593 - accuracy: 0.9513 - val_loss: 0.0727 - val_accuracy: 0.9805\n",
            "Epoch 3/10\n",
            "1688/1688 [==============================] - 57s 34ms/step - loss: 0.1233 - accuracy: 0.9625 - val_loss: 0.0603 - val_accuracy: 0.9833\n",
            "Epoch 4/10\n",
            "1688/1688 [==============================] - 56s 33ms/step - loss: 0.1035 - accuracy: 0.9671 - val_loss: 0.0569 - val_accuracy: 0.9848\n",
            "Epoch 5/10\n",
            "1688/1688 [==============================] - 57s 34ms/step - loss: 0.0914 - accuracy: 0.9714 - val_loss: 0.0531 - val_accuracy: 0.9860\n",
            "Epoch 6/10\n",
            "1688/1688 [==============================] - 56s 33ms/step - loss: 0.0831 - accuracy: 0.9736 - val_loss: 0.0468 - val_accuracy: 0.9865\n",
            "Epoch 7/10\n",
            "1688/1688 [==============================] - 58s 34ms/step - loss: 0.0764 - accuracy: 0.9764 - val_loss: 0.0440 - val_accuracy: 0.9882\n",
            "Epoch 8/10\n",
            "1688/1688 [==============================] - 62s 37ms/step - loss: 0.0722 - accuracy: 0.9779 - val_loss: 0.0419 - val_accuracy: 0.9882\n",
            "Epoch 9/10\n",
            "1688/1688 [==============================] - 58s 34ms/step - loss: 0.0674 - accuracy: 0.9788 - val_loss: 0.0446 - val_accuracy: 0.9873\n",
            "Epoch 10/10\n",
            "1688/1688 [==============================] - 56s 33ms/step - loss: 0.0627 - accuracy: 0.9804 - val_loss: 0.0394 - val_accuracy: 0.9883\n"
          ]
        }
      ]
    },
    {
      "cell_type": "code",
      "source": [
        "# prints the validation and training accuracy over the epochs\n",
        "print(epoch_history3.history['accuracy'])\n",
        "print(epoch_history3.history['val_accuracy'])"
      ],
      "metadata": {
        "colab": {
          "base_uri": "https://localhost:8080/"
        },
        "id": "ZN4AfZp1g5Fa",
        "outputId": "6a2554df-49ef-4c72-b42d-a1d4829122e9"
      },
      "execution_count": null,
      "outputs": [
        {
          "output_type": "stream",
          "name": "stdout",
          "text": [
            "[0.8670185208320618, 0.9513148069381714, 0.9624999761581421, 0.9670925736427307, 0.9713888764381409, 0.9735925793647766, 0.9764259457588196, 0.9779258966445923, 0.9788333177566528, 0.980388879776001]\n",
            "[0.9721666574478149, 0.9804999828338623, 0.9833333492279053, 0.9848333597183228, 0.9860000014305115, 0.9865000247955322, 0.9881666898727417, 0.9881666898727417, 0.987333357334137, 0.9883333444595337]\n"
          ]
        }
      ]
    },
    {
      "cell_type": "code",
      "source": [
        "# This plots the validation and training accuracy over the epochs\n",
        "plt.plot(epoch_history3.history['accuracy'], label = 'Training accuracy'\n",
        ")\n",
        "plt.plot(epoch_history3.history['val_accuracy'], label = 'Validation accuracy')\n",
        "plt.title(\"Training CNN with Learning Rate = 0.001 Accuracy\")\n",
        "plt.xlabel('Epoch')\n",
        "plt.ylabel('Accuracy')\n",
        "plt.ylim([0.935, 1.005])\n",
        "plt.legend(loc = 'lower right')"
      ],
      "metadata": {
        "colab": {
          "base_uri": "https://localhost:8080/",
          "height": 313
        },
        "id": "7aRFtAjQg9Ix",
        "outputId": "ff101a3b-e93f-4020-b84a-a5a413f21781"
      },
      "execution_count": null,
      "outputs": [
        {
          "output_type": "execute_result",
          "data": {
            "text/plain": [
              "<matplotlib.legend.Legend at 0x7fb843eb8c50>"
            ]
          },
          "metadata": {},
          "execution_count": 105
        },
        {
          "output_type": "display_data",
          "data": {
            "text/plain": [
              "<Figure size 432x288 with 1 Axes>"
            ],
            "image/png": "[encoded data removed]"
          },
          "metadata": {
            "needs_background": "light"
          }
        }
      ]
    },
    {
      "cell_type": "code",
      "source": [
        "# print loss and test accuracy over epochs\n",
        "loss, acc = model.evaluate(test_x, test_y, verbose=0) \n",
        "print(f'Loss: {loss}, Test Accuracy: {acc}')"
      ],
      "metadata": {
        "colab": {
          "base_uri": "https://localhost:8080/"
        },
        "id": "FrTy3thxhCuG",
        "outputId": "c3e6a845-415a-4273-f2a1-a9514b6408b8"
      },
      "execution_count": null,
      "outputs": [
        {
          "output_type": "stream",
          "name": "stdout",
          "text": [
            "Loss: 0.03634905442595482, Test Accuracy: 0.9879000186920166\n"
          ]
        }
      ]
    },
    {
      "cell_type": "code",
      "source": [
        "# Creating new CNN with lr = 0.1\n",
        "def create_cnn4() :\n",
        "    # defines using Sequential \n",
        "    \n",
        "    model = Sequential()\n",
        "    # Adds Convolution layer\n",
        "    model.add(Conv2D(32, (3,3), activation = 'relu', kernel_initializer= 'he_uniform', input_shape = (28, 28, 1)))\n",
        "    # Adds Maxpooling layer\n",
        "    model.add(MaxPooling2D((2,2)))\n",
        "    # Adds New Convolution layer\n",
        "    model.add(Conv2D(64, (3,3), activation = 'relu', kernel_initializer= 'he_uniform', input_shape = (28, 28, 1)))\n",
        "    # Adds New Maxpooling layer\n",
        "    model.add(MaxPooling2D((2,2))) # Flatten output\n",
        "    model.add(Flatten()) \n",
        "    # The Dropout\n",
        "    model.add(Dropout(0.5))\n",
        "    # Dense layer  100 neurons\n",
        "    model.add(Dense (100, activation ='relu', kernel_initializer = 'he_uniform'))\n",
        "    model.add(Dense(10, activation ='softmax'))\n",
        "    # initializes the optimizer\n",
        "    opt = SGD(lr = 0.1, momentum = 0.9)\n",
        "    # compiles the model\n",
        "    model.compile(optimizer = opt, loss = 'categorical_crossentropy', metrics = ['accuracy']) \n",
        "    return model"
      ],
      "metadata": {
        "id": "AbfAQGBbhMsG"
      },
      "execution_count": null,
      "outputs": []
    },
    {
      "cell_type": "code",
      "source": [
        "#Ccreates the fourth CNN\n",
        "model = create_cnn4()"
      ],
      "metadata": {
        "id": "tykbzqr5hjiU"
      },
      "execution_count": null,
      "outputs": []
    },
    {
      "cell_type": "code",
      "source": [
        "epoch_history4 = model.fit(train_x, train_y, batch_size = 32, epochs = 10, validation_split = 0.1)"
      ],
      "metadata": {
        "colab": {
          "base_uri": "https://localhost:8080/"
        },
        "id": "jpYvdHWnhrx4",
        "outputId": "cd914857-6770-452f-9158-5a86d4e7621a"
      },
      "execution_count": null,
      "outputs": [
        {
          "output_type": "stream",
          "name": "stdout",
          "text": [
            "Epoch 1/10\n",
            "1688/1688 [==============================] - 56s 33ms/step - loss: 0.9793 - accuracy: 0.7265 - val_loss: 1.0120 - val_accuracy: 0.6475\n",
            "Epoch 2/10\n",
            "1688/1688 [==============================] - 55s 32ms/step - loss: 1.6659 - accuracy: 0.4279 - val_loss: 2.3048 - val_accuracy: 0.1045\n",
            "Epoch 3/10\n",
            "1688/1688 [==============================] - 54s 32ms/step - loss: 2.4489 - accuracy: 0.1058 - val_loss: 2.3076 - val_accuracy: 0.1000\n",
            "Epoch 4/10\n",
            "1688/1688 [==============================] - 54s 32ms/step - loss: 2.3086 - accuracy: 0.1032 - val_loss: 2.3046 - val_accuracy: 0.1113\n",
            "Epoch 5/10\n",
            "1688/1688 [==============================] - 63s 37ms/step - loss: 2.3087 - accuracy: 0.1044 - val_loss: 2.3094 - val_accuracy: 0.0952\n",
            "Epoch 6/10\n",
            "1688/1688 [==============================] - 56s 33ms/step - loss: 2.3085 - accuracy: 0.1047 - val_loss: 2.3073 - val_accuracy: 0.1050\n",
            "Epoch 7/10\n",
            "1688/1688 [==============================] - 60s 36ms/step - loss: 2.3079 - accuracy: 0.1063 - val_loss: 2.3072 - val_accuracy: 0.1113\n",
            "Epoch 8/10\n",
            "1688/1688 [==============================] - 56s 33ms/step - loss: 2.3083 - accuracy: 0.1025 - val_loss: 2.3188 - val_accuracy: 0.0992\n",
            "Epoch 9/10\n",
            "1688/1688 [==============================] - 54s 32ms/step - loss: 2.3085 - accuracy: 0.1044 - val_loss: 2.3033 - val_accuracy: 0.1113\n",
            "Epoch 10/10\n",
            "1688/1688 [==============================] - 62s 37ms/step - loss: 2.3084 - accuracy: 0.1042 - val_loss: 2.3050 - val_accuracy: 0.1113\n"
          ]
        }
      ]
    },
    {
      "cell_type": "code",
      "source": [
        "# prints the validation and training accuracy over the epochs\n",
        "print(epoch_history4.history['accuracy'])\n",
        "print(epoch_history4.history['val_accuracy'])"
      ],
      "metadata": {
        "colab": {
          "base_uri": "https://localhost:8080/"
        },
        "id": "t--xzVA4htyi",
        "outputId": "07574832-bea2-4c63-d298-b40e7aee5830"
      },
      "execution_count": null,
      "outputs": [
        {
          "output_type": "stream",
          "name": "stdout",
          "text": [
            "[0.7265185117721558, 0.4279259145259857, 0.10579629987478256, 0.10324074327945709, 0.10435184836387634, 0.10474073886871338, 0.10629629343748093, 0.10253703594207764, 0.10442592948675156, 0.10418518632650375]\n",
            "[0.6474999785423279, 0.10450000315904617, 0.10000000149011612, 0.11133333295583725, 0.09516666829586029, 0.10499999672174454, 0.11133333295583725, 0.09916666895151138, 0.11133333295583725, 0.11133333295583725]\n"
          ]
        }
      ]
    },
    {
      "cell_type": "code",
      "source": [
        "# plots the validation and training accuracy over the epochs\n",
        "plt.plot(epoch_history4.history['accuracy'], label = 'Training accuracy'\n",
        ")\n",
        "plt.plot(epoch_history4.history['val_accuracy'], label = 'Validation accuracy')\n",
        "plt.title(\"Training CNN with Learning Rate = 0.1 Accuracy\")\n",
        "plt.xlabel('Epoch')\n",
        "plt.ylabel('Accuracy')\n",
        "plt.ylim([0, 1])\n",
        "plt.legend(loc = 'upper right')"
      ],
      "metadata": {
        "colab": {
          "base_uri": "https://localhost:8080/",
          "height": 313
        },
        "id": "i1VRdUGEhy_E",
        "outputId": "48eeea2e-57c9-4ea5-a4bf-e716c12548c0"
      },
      "execution_count": null,
      "outputs": [
        {
          "output_type": "execute_result",
          "data": {
            "text/plain": [
              "<matplotlib.legend.Legend at 0x7fb843f90dd0>"
            ]
          },
          "metadata": {},
          "execution_count": 104
        },
        {
          "output_type": "display_data",
          "data": {
            "text/plain": [
              "<Figure size 432x288 with 1 Axes>"
            ],
            "image/png": "[encoded data removed]"
          },
          "metadata": {
            "needs_background": "light"
          }
        }
      ]
    },
    {
      "cell_type": "code",
      "source": [
        "# This prints the loss and test accuracy over the epochs\n",
        "loss, acc = model.evaluate(test_X, test_Y, verbose=0) \n",
        "print(f'Loss: {loss}, Test Accuracy: {acc}')"
      ],
      "metadata": {
        "colab": {
          "base_uri": "https://localhost:8080/"
        },
        "id": "SAn4mBMvh2nG",
        "outputId": "231e19c4-33b6-4357-d5b0-4acd7eea507e"
      },
      "execution_count": null,
      "outputs": [
        {
          "output_type": "stream",
          "name": "stdout",
          "text": [
            "Loss: 2.305126190185547, Test Accuracy: 0.10279999673366547\n"
          ]
        }
      ]
    },
    {
      "cell_type": "markdown",
      "source": [
        "f) Analysis"
      ],
      "metadata": {
        "id": "bvVA2uv_h8QS"
      }
    },
    {
      "cell_type": "code",
      "source": [
        "# This trains the accuracy and validation accuracy for basic CNN\n",
        "print(epoch_history.history['accuracy'])\n",
        "print(epoch_history.history['val_accuracy'])"
      ],
      "metadata": {
        "colab": {
          "base_uri": "https://localhost:8080/"
        },
        "id": "-XxiRiLph41k",
        "outputId": "cb436090-aad4-4e8e-c050-ac6fd63989b2"
      },
      "execution_count": null,
      "outputs": [
        {
          "output_type": "stream",
          "name": "stdout",
          "text": [
            "[0.9459629654884338, 0.9835555553436279, 0.9912222027778625, 0.9954814910888672, 0.9977222084999084, 0.9991296529769897, 0.9998148083686829, 0.9999259114265442, 1.0, 1.0, 1.0, 1.0, 1.0, 1.0, 1.0, 1.0, 1.0, 1.0, 1.0, 1.0, 1.0, 1.0, 1.0, 1.0, 1.0, 1.0, 1.0, 1.0, 1.0, 1.0, 1.0, 1.0, 1.0, 1.0, 1.0, 1.0, 1.0, 1.0, 1.0, 1.0, 1.0, 1.0, 1.0, 1.0, 1.0, 1.0, 1.0, 1.0, 1.0, 1.0]\n",
            "[0.9781666398048401, 0.9835000038146973, 0.987333357334137, 0.9863333106040955, 0.9881666898727417, 0.987666666507721, 0.987666666507721, 0.9891666769981384, 0.9888333082199097, 0.9890000224113464, 0.9890000224113464, 0.9894999861717224, 0.9893333315849304, 0.9886666536331177, 0.9891666769981384, 0.9891666769981384, 0.9886666536331177, 0.9888333082199097, 0.9888333082199097, 0.9886666536331177, 0.9888333082199097, 0.9886666536331177, 0.9883333444595337, 0.9884999990463257, 0.9884999990463257, 0.9884999990463257, 0.9886666536331177, 0.9884999990463257, 0.9886666536331177, 0.9881666898727417, 0.9879999756813049, 0.9881666898727417, 0.9881666898727417, 0.9878333210945129, 0.9883333444595337, 0.9883333444595337, 0.9881666898727417, 0.9884999990463257, 0.9879999756813049, 0.9879999756813049, 0.9879999756813049, 0.9879999756813049, 0.9879999756813049, 0.9879999756813049, 0.987666666507721, 0.9879999756813049, 0.9881666898727417, 0.9879999756813049, 0.9878333210945129, 0.9878333210945129]\n"
          ]
        }
      ]
    },
    {
      "cell_type": "code",
      "source": [
        "# This trains the accuracy and validation accuracy for CNN with dropout layer\n",
        "print(epoch_history1.history['accuracy'])\n",
        "print(epoch_history1.history['val_accuracy'])"
      ],
      "metadata": {
        "colab": {
          "base_uri": "https://localhost:8080/"
        },
        "id": "AgIE5MR6iBUx",
        "outputId": "4693b33f-f04a-4a1a-92c0-eeb0a86c8691"
      },
      "execution_count": null,
      "outputs": [
        {
          "output_type": "stream",
          "name": "stdout",
          "text": [
            "[0.9279814958572388, 0.9717962741851807, 0.9797407388687134, 0.982703685760498, 0.9838703870773315, 0.9859444499015808, 0.9884259104728699, 0.9893333315849304, 0.9909444451332092, 0.9914259314537048, 0.9922962784767151, 0.9920926094055176, 0.993314802646637, 0.9939444661140442, 0.9940000176429749, 0.9942036867141724, 0.9947407245635986, 0.9946481585502625, 0.9957407116889954, 0.9956481456756592, 0.9961851835250854, 0.9958333373069763, 0.9963148236274719, 0.9960926175117493, 0.9964444637298584, 0.9964629411697388, 0.9967407584190369, 0.9966852068901062, 0.9969815015792847, 0.9974074363708496, 0.9972222447395325, 0.997259259223938, 0.9975185394287109, 0.9973148107528687, 0.9977407455444336, 0.9975000023841858, 0.9972037076950073, 0.9974074363708496, 0.9980185031890869, 0.9979629516601562, 0.9982407689094543, 0.9980555772781372, 0.9979259371757507, 0.9981296062469482, 0.9980000257492065, 0.9980185031890869, 0.9982407689094543, 0.9981296062469482, 0.9984814524650574, 0.9980925917625427]\n",
            "[0.9826666712760925, 0.9865000247955322, 0.9881666898727417, 0.987666666507721, 0.987666666507721, 0.9886666536331177, 0.9890000224113464, 0.9894999861717224, 0.9900000095367432, 0.9903333187103271, 0.9898333549499512, 0.9898333549499512, 0.9911666512489319, 0.9904999732971191, 0.9906666874885559, 0.9901666641235352, 0.9913333058357239, 0.9911666512489319, 0.9898333549499512, 0.9900000095367432, 0.9903333187103271, 0.9904999732971191, 0.9909999966621399, 0.9909999966621399, 0.9913333058357239, 0.9904999732971191, 0.9898333549499512, 0.9904999732971191, 0.9906666874885559, 0.9908333420753479, 0.9913333058357239, 0.9901666641235352, 0.9908333420753479, 0.9916666746139526, 0.9896666407585144, 0.9911666512489319, 0.9915000200271606, 0.9916666746139526, 0.9908333420753479, 0.9903333187103271, 0.9921666383743286, 0.9911666512489319, 0.9918333292007446, 0.9900000095367432, 0.9916666746139526, 0.9911666512489319, 0.9909999966621399, 0.9923333525657654, 0.9900000095367432, 0.9915000200271606]\n"
          ]
        }
      ]
    },
    {
      "cell_type": "markdown",
      "source": [
        "The results we recieved for the CNN's were that when we did not use a dropout layer, the training accuracy was extremly close to the value of 1 and would reach 1. When we did use the dropout layer, trends in the validation accuracy and accuracy incresed in the direction towards 1 but did't reach 1. The Trends of the validation accuracy were very close in value although, the use of the dropout layer resulted in better validation accuracy.\n"
      ],
      "metadata": {
        "id": "lXApCx0hiKyO"
      }
    },
    {
      "cell_type": "markdown",
      "source": [
        "ii)"
      ],
      "metadata": {
        "id": "J36i-DlKjddP"
      }
    },
    {
      "cell_type": "code",
      "source": [
        "# train accuracy and validation accuracy for CNN with dropout layer (lr = 0.01)\n",
        "print(epoch_history1.history['accuracy'])\n",
        "print(epoch_history1.history['val_accuracy'])"
      ],
      "metadata": {
        "colab": {
          "base_uri": "https://localhost:8080/"
        },
        "id": "ixe3jXP9jgMP",
        "outputId": "c2cf7bf4-3fca-4d4f-8d91-b53594c3f76d"
      },
      "execution_count": null,
      "outputs": [
        {
          "output_type": "stream",
          "name": "stdout",
          "text": [
            "[0.9279814958572388, 0.9717962741851807, 0.9797407388687134, 0.982703685760498, 0.9838703870773315, 0.9859444499015808, 0.9884259104728699, 0.9893333315849304, 0.9909444451332092, 0.9914259314537048, 0.9922962784767151, 0.9920926094055176, 0.993314802646637, 0.9939444661140442, 0.9940000176429749, 0.9942036867141724, 0.9947407245635986, 0.9946481585502625, 0.9957407116889954, 0.9956481456756592, 0.9961851835250854, 0.9958333373069763, 0.9963148236274719, 0.9960926175117493, 0.9964444637298584, 0.9964629411697388, 0.9967407584190369, 0.9966852068901062, 0.9969815015792847, 0.9974074363708496, 0.9972222447395325, 0.997259259223938, 0.9975185394287109, 0.9973148107528687, 0.9977407455444336, 0.9975000023841858, 0.9972037076950073, 0.9974074363708496, 0.9980185031890869, 0.9979629516601562, 0.9982407689094543, 0.9980555772781372, 0.9979259371757507, 0.9981296062469482, 0.9980000257492065, 0.9980185031890869, 0.9982407689094543, 0.9981296062469482, 0.9984814524650574, 0.9980925917625427]\n",
            "[0.9826666712760925, 0.9865000247955322, 0.9881666898727417, 0.987666666507721, 0.987666666507721, 0.9886666536331177, 0.9890000224113464, 0.9894999861717224, 0.9900000095367432, 0.9903333187103271, 0.9898333549499512, 0.9898333549499512, 0.9911666512489319, 0.9904999732971191, 0.9906666874885559, 0.9901666641235352, 0.9913333058357239, 0.9911666512489319, 0.9898333549499512, 0.9900000095367432, 0.9903333187103271, 0.9904999732971191, 0.9909999966621399, 0.9909999966621399, 0.9913333058357239, 0.9904999732971191, 0.9898333549499512, 0.9904999732971191, 0.9906666874885559, 0.9908333420753479, 0.9913333058357239, 0.9901666641235352, 0.9908333420753479, 0.9916666746139526, 0.9896666407585144, 0.9911666512489319, 0.9915000200271606, 0.9916666746139526, 0.9908333420753479, 0.9903333187103271, 0.9921666383743286, 0.9911666512489319, 0.9918333292007446, 0.9900000095367432, 0.9916666746139526, 0.9911666512489319, 0.9909999966621399, 0.9923333525657654, 0.9900000095367432, 0.9915000200271606]\n"
          ]
        }
      ]
    },
    {
      "cell_type": "code",
      "source": [
        "#  validation accuracy and training accuracy for the CNN with dropout layer with the two convolutional layers which was (lr = 0.01) \n",
        "print(epoch_history2.history['accuracy']) \n",
        "print(epoch_history2.history['val_accuracy'])"
      ],
      "metadata": {
        "colab": {
          "base_uri": "https://localhost:8080/"
        },
        "id": "in22t123jlXx",
        "outputId": "9e6c41f7-3ea6-420e-aac0-ec6448922202"
      },
      "execution_count": null,
      "outputs": [
        {
          "output_type": "stream",
          "name": "stdout",
          "text": [
            "[0.9377777576446533, 0.9753147959709167, 0.9801296591758728, 0.9835740923881531, 0.9857407212257385, 0.9872592687606812, 0.9881296157836914, 0.9889444708824158, 0.9899444580078125, 0.990240752696991]\n",
            "[0.9818333387374878, 0.987666666507721, 0.9911666512489319, 0.9893333315849304, 0.9906666874885559, 0.9923333525657654, 0.9926666617393494, 0.9923333525657654, 0.9928333163261414, 0.9929999709129333]\n"
          ]
        }
      ]
    },
    {
      "cell_type": "markdown",
      "source": [
        "The overall preformance of our CNN with the two convolutional layers had a higher validation accuracy and a slightly lower train accuracy in comparison with the single convolutional layer"
      ],
      "metadata": {
        "id": "jPsg6-l5j651"
      }
    },
    {
      "cell_type": "markdown",
      "source": [
        "iii)"
      ],
      "metadata": {
        "id": "opNJqiE6kUtY"
      }
    },
    {
      "cell_type": "code",
      "source": [
        "# The validation accuracy and train accuracy for the CNN with dropout layer of the two convolutional layers which was (lr = 0.01) \n",
        "print(epoch_history2.history['accuracy']) \n",
        "print(epoch_history2.history['val_accuracy'])"
      ],
      "metadata": {
        "colab": {
          "base_uri": "https://localhost:8080/"
        },
        "id": "asWNZyvLkYN2",
        "outputId": "5415de61-24e9-4d02-d30d-05b4a9bfdd0b"
      },
      "execution_count": null,
      "outputs": [
        {
          "output_type": "stream",
          "name": "stdout",
          "text": [
            "[0.9377777576446533, 0.9753147959709167, 0.9801296591758728, 0.9835740923881531, 0.9857407212257385, 0.9872592687606812, 0.9881296157836914, 0.9889444708824158, 0.9899444580078125, 0.990240752696991]\n",
            "[0.9818333387374878, 0.987666666507721, 0.9911666512489319, 0.9893333315849304, 0.9906666874885559, 0.9923333525657654, 0.9926666617393494, 0.9923333525657654, 0.9928333163261414, 0.9929999709129333]\n"
          ]
        }
      ]
    },
    {
      "cell_type": "code",
      "source": [
        "# The validation accuracy and train accuracy for the CNN with dropout layer of the two convolutional layers which was (lr = 0.001) \n",
        "print(epoch_history3.history['accuracy']) \n",
        "print(epoch_history3.history['val_accuracy'])"
      ],
      "metadata": {
        "colab": {
          "base_uri": "https://localhost:8080/"
        },
        "id": "lTyxatQ9kqWE",
        "outputId": "4a254f0d-d75f-4d87-b4e3-e82f9050114f"
      },
      "execution_count": null,
      "outputs": [
        {
          "output_type": "stream",
          "name": "stdout",
          "text": [
            "[0.8670185208320618, 0.9513148069381714, 0.9624999761581421, 0.9670925736427307, 0.9713888764381409, 0.9735925793647766, 0.9764259457588196, 0.9779258966445923, 0.9788333177566528, 0.980388879776001]\n",
            "[0.9721666574478149, 0.9804999828338623, 0.9833333492279053, 0.9848333597183228, 0.9860000014305115, 0.9865000247955322, 0.9881666898727417, 0.9881666898727417, 0.987333357334137, 0.9883333444595337]\n"
          ]
        }
      ]
    },
    {
      "cell_type": "code",
      "source": [
        "# The validation accuracy and train accuracy for the CNN with dropout layer of the two convolutional layers which was (lr = 0.1) \n",
        "print(epoch_history4.history['accuracy']) \n",
        "print(epoch_history4.history['val_accuracy'])"
      ],
      "metadata": {
        "colab": {
          "base_uri": "https://localhost:8080/"
        },
        "id": "wOMQfPrrkxBW",
        "outputId": "10e65bb9-8033-45ba-fc1e-9fe1bd2f3de8"
      },
      "execution_count": null,
      "outputs": [
        {
          "output_type": "stream",
          "name": "stdout",
          "text": [
            "[0.7265185117721558, 0.4279259145259857, 0.10579629987478256, 0.10324074327945709, 0.10435184836387634, 0.10474073886871338, 0.10629629343748093, 0.10253703594207764, 0.10442592948675156, 0.10418518632650375]\n",
            "[0.6474999785423279, 0.10450000315904617, 0.10000000149011612, 0.11133333295583725, 0.09516666829586029, 0.10499999672174454, 0.11133333295583725, 0.09916666895151138, 0.11133333295583725, 0.11133333295583725]\n"
          ]
        }
      ]
    },
    {
      "cell_type": "markdown",
      "source": [
        "When we would change the learning rates to 0.1, both the validation accuracy and the train accuracy dropped to 0.1. When we changed the learning rates to 0.001, this gave us a lower overall validation accuracy and trainning accuracy."
      ],
      "metadata": {
        "id": "mJR8AkKEk3bB"
      }
    }
  ]
}